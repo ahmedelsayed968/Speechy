{
 "cells": [
  {
   "cell_type": "code",
   "execution_count": 1,
   "id": "9026074f",
   "metadata": {},
   "outputs": [
    {
     "name": "stderr",
     "output_type": "stream",
     "text": [
      "/kaggle/working/Speechy/.venv/lib/python3.10/site-packages/tqdm/auto.py:21: TqdmWarning: IProgress not found. Please update jupyter and ipywidgets. See https://ipywidgets.readthedocs.io/en/stable/user_install.html\n",
      "  from .autonotebook import tqdm as notebook_tqdm\n"
     ]
    },
    {
     "data": {
      "text/plain": [
       "True"
      ]
     },
     "execution_count": 1,
     "metadata": {},
     "output_type": "execute_result"
    }
   ],
   "source": [
    "from data.featurize import FeatureExtractor,ECAPASpeechBrainEncoder\n",
    "from dotenv import load_dotenv\n",
    "import os\n",
    "import torch\n",
    "load_dotenv()"
   ]
  },
  {
   "cell_type": "code",
   "execution_count": 2,
   "id": "c0981762",
   "metadata": {},
   "outputs": [
    {
     "name": "stderr",
     "output_type": "stream",
     "text": [
      "/kaggle/working/Speechy/.venv/lib/python3.10/site-packages/speechbrain/utils/autocast.py:188: FutureWarning: `torch.cuda.amp.custom_fwd(args...)` is deprecated. Please use `torch.amp.custom_fwd(args..., device_type='cuda')` instead.\n",
      "  wrapped_fwd = torch.cuda.amp.custom_fwd(fwd, cast_inputs=cast_inputs)\n"
     ]
    }
   ],
   "source": [
    "encoder = ECAPASpeechBrainEncoder()\n",
    "device = torch.device(\"cuda\" if torch.cuda.is_available() else \"cpu\")\n",
    "feature_extractor= FeatureExtractor(\n",
    "    repo_id= os.environ.get(\"DATASET_REPO_ID\"),\n",
    "    revision=None,\n",
    "    encoder=encoder,\n",
    "    device=device,\n",
    "    target_col=\"clean_audio\"\n",
    ")"
   ]
  },
  {
   "cell_type": "code",
   "execution_count": null,
   "id": "33b51fc6",
   "metadata": {},
   "outputs": [
    {
     "name": "stderr",
     "output_type": "stream",
     "text": [
      "Map: 100%|██████████| 2957/2957 [00:09<00:00, 325.61 examples/s]\n",
      "Map: 100%|██████████| 740/740 [00:02<00:00, 301.89 examples/s]\n",
      "Map: 100%|██████████| 925/925 [00:02<00:00, 362.30 examples/s]\n",
      "Filter: 100%|██████████| 2957/2957 [00:01<00:00, 1541.83 examples/s]\n",
      "Filter: 100%|██████████| 740/740 [00:00<00:00, 3962.08 examples/s]\n",
      "Filter: 100%|██████████| 925/925 [00:00<00:00, 3771.65 examples/s]\n",
      "Filter: 100%|██████████| 2949/2949 [00:00<00:00, 4748.96 examples/s]\n",
      "Filter: 100%|██████████| 737/737 [00:00<00:00, 5190.80 examples/s]\n",
      "Filter: 100%|██████████| 922/922 [00:00<00:00, 5428.89 examples/s]\n",
      "Map:   1%|          | 32/2801 [01:52<2:42:06,  3.51s/ examples]"
     ]
    }
   ],
   "source": [
    "embedded_ds = feature_extractor.create_embeddings()"
   ]
  },
  {
   "cell_type": "code",
   "execution_count": null,
   "id": "69c86ea7",
   "metadata": {},
   "outputs": [],
   "source": []
  }
 ],
 "metadata": {
  "kernelspec": {
   "display_name": "Speechy",
   "language": "python",
   "name": "python3"
  },
  "language_info": {
   "codemirror_mode": {
    "name": "ipython",
    "version": 3
   },
   "file_extension": ".py",
   "mimetype": "text/x-python",
   "name": "python",
   "nbconvert_exporter": "python",
   "pygments_lexer": "ipython3",
   "version": "3.10.12"
  }
 },
 "nbformat": 4,
 "nbformat_minor": 5
}
